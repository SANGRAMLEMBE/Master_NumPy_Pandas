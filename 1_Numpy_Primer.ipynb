{
  "nbformat": 4,
  "nbformat_minor": 0,
  "metadata": {
    "colab": {
      "provenance": [],
      "collapsed_sections": [
        "mil8CnLxqete"
      ],
      "authorship_tag": "ABX9TyOii3RyuYgCGREh38TuCv58",
      "include_colab_link": true
    },
    "kernelspec": {
      "name": "python3",
      "display_name": "Python 3"
    },
    "language_info": {
      "name": "python"
    }
  },
  "cells": [
    {
      "cell_type": "markdown",
      "metadata": {
        "id": "view-in-github",
        "colab_type": "text"
      },
      "source": [
        "<a href=\"https://colab.research.google.com/github/SANGRAMLEMBE/Master_NumPy_Pandas/blob/main/1_Numpy_Primer.ipynb\" target=\"_parent\"><img src=\"https://colab.research.google.com/assets/colab-badge.svg\" alt=\"Open In Colab\"/></a>"
      ]
    },
    {
      "cell_type": "code",
      "execution_count": 1,
      "metadata": {
        "id": "bYnt_krom33-"
      },
      "outputs": [],
      "source": [
        "import numpy as np\n"
      ]
    },
    {
      "cell_type": "markdown",
      "source": [
        "### Array Basics"
      ],
      "metadata": {
        "id": "mil8CnLxqete"
      }
    },
    {
      "cell_type": "code",
      "source": [
        "array  = np.array(range(5))"
      ],
      "metadata": {
        "id": "-XCuild2o2vl"
      },
      "execution_count": 2,
      "outputs": []
    },
    {
      "cell_type": "code",
      "source": [
        "array"
      ],
      "metadata": {
        "colab": {
          "base_uri": "https://localhost:8080/"
        },
        "id": "8-OBlmQOo_Bt",
        "outputId": "6e8ebe36-aadf-42f9-8e66-52d447697e77"
      },
      "execution_count": 3,
      "outputs": [
        {
          "output_type": "execute_result",
          "data": {
            "text/plain": [
              "array([0, 1, 2, 3, 4])"
            ]
          },
          "metadata": {},
          "execution_count": 3
        }
      ]
    },
    {
      "cell_type": "code",
      "source": [
        "array_2d = np.array([range(5),range(5)])\n",
        "array_2d\n",
        "array_2d.shape"
      ],
      "metadata": {
        "colab": {
          "base_uri": "https://localhost:8080/"
        },
        "id": "JMnTZzjWpGU3",
        "outputId": "a08fa9f1-ce79-416a-9823-7c07c9d80ec2"
      },
      "execution_count": 4,
      "outputs": [
        {
          "output_type": "execute_result",
          "data": {
            "text/plain": [
              "(2, 5)"
            ]
          },
          "metadata": {},
          "execution_count": 4
        }
      ]
    },
    {
      "cell_type": "code",
      "source": [
        "sales  = {0,5, 155,0,1027,616,317,325}\n",
        "\n",
        "sales_array = np.array(sales)\n",
        "sales_array"
      ],
      "metadata": {
        "colab": {
          "base_uri": "https://localhost:8080/"
        },
        "id": "JFW4dO2YnWZr",
        "outputId": "53173d5e-da8b-4731-841c-06f257fd23bd"
      },
      "execution_count": 5,
      "outputs": [
        {
          "output_type": "execute_result",
          "data": {
            "text/plain": [
              "array({0, 1027, 325, 5, 616, 155, 317}, dtype=object)"
            ]
          },
          "metadata": {},
          "execution_count": 5
        }
      ]
    },
    {
      "cell_type": "code",
      "source": [
        "# Key Property\n",
        "\n",
        "print(f\"ndim: {sales_array.ndim}\")\n",
        "print(f\"shape: {sales_array.shape}\")\n",
        "print(f\"size: {sales_array.size}\")\n",
        "print(f\"dtype: {sales_array.dtype}\")"
      ],
      "metadata": {
        "colab": {
          "base_uri": "https://localhost:8080/"
        },
        "id": "I69XSUl3nmaW",
        "outputId": "75521206-e8ee-47c5-a8d0-79f6428745fd"
      },
      "execution_count": 6,
      "outputs": [
        {
          "output_type": "stream",
          "name": "stdout",
          "text": [
            "ndim: 0\n",
            "shape: ()\n",
            "size: 1\n",
            "dtype: object\n"
          ]
        }
      ]
    },
    {
      "cell_type": "code",
      "source": [
        "array_2d.T.shape"
      ],
      "metadata": {
        "colab": {
          "base_uri": "https://localhost:8080/"
        },
        "id": "M2UMwl-uoH9u",
        "outputId": "f6d9e039-9861-4636-9b4f-eaa193211d53"
      },
      "execution_count": 7,
      "outputs": [
        {
          "output_type": "execute_result",
          "data": {
            "text/plain": [
              "(5, 2)"
            ]
          },
          "metadata": {},
          "execution_count": 7
        }
      ]
    },
    {
      "cell_type": "code",
      "source": [
        "array_2d.T"
      ],
      "metadata": {
        "colab": {
          "base_uri": "https://localhost:8080/"
        },
        "id": "j0ASn2gOp7Lu",
        "outputId": "91465c54-8e13-419f-caf6-2bc1343fab40"
      },
      "execution_count": 8,
      "outputs": [
        {
          "output_type": "execute_result",
          "data": {
            "text/plain": [
              "array([[0, 0],\n",
              "       [1, 1],\n",
              "       [2, 2],\n",
              "       [3, 3],\n",
              "       [4, 4]])"
            ]
          },
          "metadata": {},
          "execution_count": 8
        }
      ]
    },
    {
      "cell_type": "code",
      "source": [
        "array_2d.dtype"
      ],
      "metadata": {
        "colab": {
          "base_uri": "https://localhost:8080/"
        },
        "id": "vEXuMVD9p-eg",
        "outputId": "4ba8a2ba-9756-4145-874e-e4b74c7b0da5"
      },
      "execution_count": 9,
      "outputs": [
        {
          "output_type": "execute_result",
          "data": {
            "text/plain": [
              "dtype('int64')"
            ]
          },
          "metadata": {},
          "execution_count": 9
        }
      ]
    },
    {
      "cell_type": "code",
      "source": [
        "array_2d.ndim"
      ],
      "metadata": {
        "colab": {
          "base_uri": "https://localhost:8080/"
        },
        "id": "P5lD6ETiqRZ-",
        "outputId": "6cd5f674-2a7f-4f89-e4d6-439fcbb844b8"
      },
      "execution_count": 10,
      "outputs": [
        {
          "output_type": "execute_result",
          "data": {
            "text/plain": [
              "2"
            ]
          },
          "metadata": {},
          "execution_count": 10
        }
      ]
    },
    {
      "cell_type": "code",
      "source": [
        "# Example\n",
        "my_list = [x * 10 for x in range (1,11)]\n",
        "array = np.array(my_list)\n",
        "array"
      ],
      "metadata": {
        "colab": {
          "base_uri": "https://localhost:8080/"
        },
        "id": "WAqWOrxLqVls",
        "outputId": "5af82e19-1b1c-4416-a3ff-e68064508228"
      },
      "execution_count": 11,
      "outputs": [
        {
          "output_type": "execute_result",
          "data": {
            "text/plain": [
              "array([ 10,  20,  30,  40,  50,  60,  70,  80,  90, 100])"
            ]
          },
          "metadata": {},
          "execution_count": 11
        }
      ]
    },
    {
      "cell_type": "code",
      "source": [
        "array = np.array(my_list).reshape(10,1)  # differt dimension\n",
        "array"
      ],
      "metadata": {
        "colab": {
          "base_uri": "https://localhost:8080/"
        },
        "id": "Cv5SAotqpt8e",
        "outputId": "40416edc-cc9b-47c1-b353-47db552ada67"
      },
      "execution_count": 12,
      "outputs": [
        {
          "output_type": "execute_result",
          "data": {
            "text/plain": [
              "array([[ 10],\n",
              "       [ 20],\n",
              "       [ 30],\n",
              "       [ 40],\n",
              "       [ 50],\n",
              "       [ 60],\n",
              "       [ 70],\n",
              "       [ 80],\n",
              "       [ 90],\n",
              "       [100]])"
            ]
          },
          "metadata": {},
          "execution_count": 12
        }
      ]
    },
    {
      "cell_type": "code",
      "source": [
        "array = np.array(my_list).reshape(2,5)\n",
        "array"
      ],
      "metadata": {
        "colab": {
          "base_uri": "https://localhost:8080/"
        },
        "id": "df5qrKUxpykp",
        "outputId": "fdafe0e6-ed2f-4e60-dab3-19e05ae55567"
      },
      "execution_count": 13,
      "outputs": [
        {
          "output_type": "execute_result",
          "data": {
            "text/plain": [
              "array([[ 10,  20,  30,  40,  50],\n",
              "       [ 60,  70,  80,  90, 100]])"
            ]
          },
          "metadata": {},
          "execution_count": 13
        }
      ]
    },
    {
      "cell_type": "code",
      "source": [
        "# Key Property\n",
        "\n",
        "print(f\"ndim: {array.ndim}\")\n",
        "print(f\"shape: {array.shape}\")\n",
        "print(f\"size: {array.size}\")\n",
        "print(f\"dtype: {array.dtype}\")"
      ],
      "metadata": {
        "colab": {
          "base_uri": "https://localhost:8080/"
        },
        "id": "WqScT3gwsrJL",
        "outputId": "9fc14339-6fc3-4a50-83bb-08ef71d61233"
      },
      "execution_count": 14,
      "outputs": [
        {
          "output_type": "stream",
          "name": "stdout",
          "text": [
            "ndim: 2\n",
            "shape: (2, 5)\n",
            "size: 10\n",
            "dtype: int64\n"
          ]
        }
      ]
    },
    {
      "cell_type": "markdown",
      "source": [
        "### Array Creation\n",
        "\n"
      ],
      "metadata": {
        "id": "rGotjQYMqjCI"
      }
    },
    {
      "cell_type": "code",
      "source": [
        "#once\n",
        "np.ones(4,)"
      ],
      "metadata": {
        "id": "dF1Hb9VztqP5",
        "colab": {
          "base_uri": "https://localhost:8080/"
        },
        "outputId": "75d66145-fbc8-41f1-c3d8-13f5b8e16dde"
      },
      "execution_count": 17,
      "outputs": [
        {
          "output_type": "execute_result",
          "data": {
            "text/plain": [
              "array([1., 1., 1., 1.])"
            ]
          },
          "metadata": {},
          "execution_count": 17
        }
      ]
    },
    {
      "cell_type": "code",
      "source": [
        "#Zeros\n",
        "np.zeros((2,5))"
      ],
      "metadata": {
        "colab": {
          "base_uri": "https://localhost:8080/"
        },
        "id": "jfCViRF_30Ah",
        "outputId": "c1ec7329-a705-4cca-a716-b512b53552aa"
      },
      "execution_count": 19,
      "outputs": [
        {
          "output_type": "execute_result",
          "data": {
            "text/plain": [
              "array([[0., 0., 0., 0., 0.],\n",
              "       [0., 0., 0., 0., 0.]])"
            ]
          },
          "metadata": {},
          "execution_count": 19
        }
      ]
    },
    {
      "cell_type": "code",
      "source": [
        "np.arange(10)"
      ],
      "metadata": {
        "colab": {
          "base_uri": "https://localhost:8080/"
        },
        "id": "2PhV_yl04AKC",
        "outputId": "00f95183-b3f4-4716-c4e6-ba358a55c2ac"
      },
      "execution_count": 21,
      "outputs": [
        {
          "output_type": "execute_result",
          "data": {
            "text/plain": [
              "array([0, 1, 2, 3, 4, 5, 6, 7, 8, 9])"
            ]
          },
          "metadata": {},
          "execution_count": 21
        }
      ]
    },
    {
      "cell_type": "code",
      "source": [
        "np.linspace(0, 100, 5)  # np.linspace(start,stop,n) --> n is how much part we have to create"
      ],
      "metadata": {
        "colab": {
          "base_uri": "https://localhost:8080/"
        },
        "id": "_PTZ7ZtY4dTQ",
        "outputId": "80dae436-3b69-4b3c-b417-ad8970e2713e"
      },
      "execution_count": 28,
      "outputs": [
        {
          "output_type": "execute_result",
          "data": {
            "text/plain": [
              "array([  0.,  25.,  50.,  75., 100.])"
            ]
          },
          "metadata": {},
          "execution_count": 28
        }
      ]
    },
    {
      "cell_type": "code",
      "source": [
        "np.linspace(0, 100, 10)"
      ],
      "metadata": {
        "colab": {
          "base_uri": "https://localhost:8080/"
        },
        "id": "CIF8-pUY4oOs",
        "outputId": "013bc6f6-654b-47f3-a3b7-5ae203d858ce"
      },
      "execution_count": 29,
      "outputs": [
        {
          "output_type": "execute_result",
          "data": {
            "text/plain": [
              "array([  0.        ,  11.11111111,  22.22222222,  33.33333333,\n",
              "        44.44444444,  55.55555556,  66.66666667,  77.77777778,\n",
              "        88.88888889, 100.        ])"
            ]
          },
          "metadata": {},
          "execution_count": 29
        }
      ]
    },
    {
      "cell_type": "code",
      "source": [
        "np.linspace(0, 100, 8)"
      ],
      "metadata": {
        "colab": {
          "base_uri": "https://localhost:8080/"
        },
        "id": "8i51CtTh5Oa-",
        "outputId": "1e99430f-cc72-45bc-cd3d-e2b17eeb77ca"
      },
      "execution_count": 30,
      "outputs": [
        {
          "output_type": "execute_result",
          "data": {
            "text/plain": [
              "array([  0.        ,  14.28571429,  28.57142857,  42.85714286,\n",
              "        57.14285714,  71.42857143,  85.71428571, 100.        ])"
            ]
          },
          "metadata": {},
          "execution_count": 30
        }
      ]
    },
    {
      "cell_type": "code",
      "source": [
        "np.arange(1,9,2)  # 1 to 9 with space between 2"
      ],
      "metadata": {
        "colab": {
          "base_uri": "https://localhost:8080/"
        },
        "id": "is80gNJk5qlT",
        "outputId": "0e883f80-15c4-42e0-fb64-83a59757c39e"
      },
      "execution_count": 33,
      "outputs": [
        {
          "output_type": "execute_result",
          "data": {
            "text/plain": [
              "array([1, 3, 5, 7])"
            ]
          },
          "metadata": {},
          "execution_count": 33
        }
      ]
    },
    {
      "cell_type": "code",
      "source": [
        "np.arange(5,9)"
      ],
      "metadata": {
        "colab": {
          "base_uri": "https://localhost:8080/"
        },
        "id": "0P5X17367eEB",
        "outputId": "40e52e8d-1134-4ac4-bcc9-3d4d4c893c63"
      },
      "execution_count": 47,
      "outputs": [
        {
          "output_type": "execute_result",
          "data": {
            "text/plain": [
              "array([5, 6, 7, 8])"
            ]
          },
          "metadata": {},
          "execution_count": 47
        }
      ]
    },
    {
      "cell_type": "code",
      "source": [
        "np.arange(1,9,2).reshape(2,2)  # reshape 2 arrays with 2 elements"
      ],
      "metadata": {
        "colab": {
          "base_uri": "https://localhost:8080/"
        },
        "id": "eiK16nh05REs",
        "outputId": "c04b0135-54d6-42ea-f8f4-73ed2bcf7ed6"
      },
      "execution_count": 34,
      "outputs": [
        {
          "output_type": "execute_result",
          "data": {
            "text/plain": [
              "array([[1, 3],\n",
              "       [5, 7]])"
            ]
          },
          "metadata": {},
          "execution_count": 34
        }
      ]
    },
    {
      "cell_type": "code",
      "source": [
        "np.zeros(100, 'int').reshape(5,20)"
      ],
      "metadata": {
        "colab": {
          "base_uri": "https://localhost:8080/"
        },
        "id": "HQ0l-Jpd5fju",
        "outputId": "924bf40f-c8bb-4a86-a007-2d2aa8ddf7d8"
      },
      "execution_count": 35,
      "outputs": [
        {
          "output_type": "execute_result",
          "data": {
            "text/plain": [
              "array([[0, 0, 0, 0, 0, 0, 0, 0, 0, 0, 0, 0, 0, 0, 0, 0, 0, 0, 0, 0],\n",
              "       [0, 0, 0, 0, 0, 0, 0, 0, 0, 0, 0, 0, 0, 0, 0, 0, 0, 0, 0, 0],\n",
              "       [0, 0, 0, 0, 0, 0, 0, 0, 0, 0, 0, 0, 0, 0, 0, 0, 0, 0, 0, 0],\n",
              "       [0, 0, 0, 0, 0, 0, 0, 0, 0, 0, 0, 0, 0, 0, 0, 0, 0, 0, 0, 0],\n",
              "       [0, 0, 0, 0, 0, 0, 0, 0, 0, 0, 0, 0, 0, 0, 0, 0, 0, 0, 0, 0]])"
            ]
          },
          "metadata": {},
          "execution_count": 35
        }
      ]
    },
    {
      "cell_type": "code",
      "source": [
        "np.zeros((5,20), 'int') # same as above"
      ],
      "metadata": {
        "colab": {
          "base_uri": "https://localhost:8080/"
        },
        "id": "gTx3QSQq6Z3E",
        "outputId": "59cb658c-dda5-40a8-ebf5-8754802bb837"
      },
      "execution_count": 39,
      "outputs": [
        {
          "output_type": "execute_result",
          "data": {
            "text/plain": [
              "array([[0, 0, 0, 0, 0, 0, 0, 0, 0, 0, 0, 0, 0, 0, 0, 0, 0, 0, 0, 0],\n",
              "       [0, 0, 0, 0, 0, 0, 0, 0, 0, 0, 0, 0, 0, 0, 0, 0, 0, 0, 0, 0],\n",
              "       [0, 0, 0, 0, 0, 0, 0, 0, 0, 0, 0, 0, 0, 0, 0, 0, 0, 0, 0, 0],\n",
              "       [0, 0, 0, 0, 0, 0, 0, 0, 0, 0, 0, 0, 0, 0, 0, 0, 0, 0, 0, 0],\n",
              "       [0, 0, 0, 0, 0, 0, 0, 0, 0, 0, 0, 0, 0, 0, 0, 0, 0, 0, 0, 0]])"
            ]
          },
          "metadata": {},
          "execution_count": 39
        }
      ]
    },
    {
      "cell_type": "code",
      "source": [
        "np.identity(10)"
      ],
      "metadata": {
        "colab": {
          "base_uri": "https://localhost:8080/"
        },
        "id": "bDt8eUiA6jNe",
        "outputId": "b2d0e1e4-66de-460b-f624-13e9572f5a86"
      },
      "execution_count": 40,
      "outputs": [
        {
          "output_type": "execute_result",
          "data": {
            "text/plain": [
              "array([[1., 0., 0., 0., 0., 0., 0., 0., 0., 0.],\n",
              "       [0., 1., 0., 0., 0., 0., 0., 0., 0., 0.],\n",
              "       [0., 0., 1., 0., 0., 0., 0., 0., 0., 0.],\n",
              "       [0., 0., 0., 1., 0., 0., 0., 0., 0., 0.],\n",
              "       [0., 0., 0., 0., 1., 0., 0., 0., 0., 0.],\n",
              "       [0., 0., 0., 0., 0., 1., 0., 0., 0., 0.],\n",
              "       [0., 0., 0., 0., 0., 0., 1., 0., 0., 0.],\n",
              "       [0., 0., 0., 0., 0., 0., 0., 1., 0., 0.],\n",
              "       [0., 0., 0., 0., 0., 0., 0., 0., 1., 0.],\n",
              "       [0., 0., 0., 0., 0., 0., 0., 0., 0., 1.]])"
            ]
          },
          "metadata": {},
          "execution_count": 40
        }
      ]
    },
    {
      "cell_type": "code",
      "source": [
        "np.identity(10).reshape(5,20)"
      ],
      "metadata": {
        "colab": {
          "base_uri": "https://localhost:8080/"
        },
        "id": "gInNQA1d61nT",
        "outputId": "d8913e9c-0008-47dd-87de-86b64e9841a1"
      },
      "execution_count": 45,
      "outputs": [
        {
          "output_type": "execute_result",
          "data": {
            "text/plain": [
              "array([[1., 0., 0., 0., 0., 0., 0., 0., 0., 0., 0., 1., 0., 0., 0., 0.,\n",
              "        0., 0., 0., 0.],\n",
              "       [0., 0., 1., 0., 0., 0., 0., 0., 0., 0., 0., 0., 0., 1., 0., 0.,\n",
              "        0., 0., 0., 0.],\n",
              "       [0., 0., 0., 0., 1., 0., 0., 0., 0., 0., 0., 0., 0., 0., 0., 1.,\n",
              "        0., 0., 0., 0.],\n",
              "       [0., 0., 0., 0., 0., 0., 1., 0., 0., 0., 0., 0., 0., 0., 0., 0.,\n",
              "        0., 1., 0., 0.],\n",
              "       [0., 0., 0., 0., 0., 0., 0., 0., 1., 0., 0., 0., 0., 0., 0., 0.,\n",
              "        0., 0., 0., 1.]])"
            ]
          },
          "metadata": {},
          "execution_count": 45
        }
      ]
    },
    {
      "cell_type": "code",
      "source": [
        "np.identity(10).reshape(5,20).T"
      ],
      "metadata": {
        "colab": {
          "base_uri": "https://localhost:8080/"
        },
        "id": "mXdpYwap665V",
        "outputId": "f43b2f7b-de72-4ca6-9cc1-be8a9f2032f2"
      },
      "execution_count": 46,
      "outputs": [
        {
          "output_type": "execute_result",
          "data": {
            "text/plain": [
              "array([[1., 0., 0., 0., 0.],\n",
              "       [0., 0., 0., 0., 0.],\n",
              "       [0., 1., 0., 0., 0.],\n",
              "       [0., 0., 0., 0., 0.],\n",
              "       [0., 0., 1., 0., 0.],\n",
              "       [0., 0., 0., 0., 0.],\n",
              "       [0., 0., 0., 1., 0.],\n",
              "       [0., 0., 0., 0., 0.],\n",
              "       [0., 0., 0., 0., 1.],\n",
              "       [0., 0., 0., 0., 0.],\n",
              "       [0., 0., 0., 0., 0.],\n",
              "       [1., 0., 0., 0., 0.],\n",
              "       [0., 0., 0., 0., 0.],\n",
              "       [0., 1., 0., 0., 0.],\n",
              "       [0., 0., 0., 0., 0.],\n",
              "       [0., 0., 1., 0., 0.],\n",
              "       [0., 0., 0., 0., 0.],\n",
              "       [0., 0., 0., 1., 0.],\n",
              "       [0., 0., 0., 0., 0.],\n",
              "       [0., 0., 0., 0., 1.]])"
            ]
          },
          "metadata": {},
          "execution_count": 46
        }
      ]
    },
    {
      "cell_type": "code",
      "source": [
        "np.linspace(0,64,9) # equally space interval"
      ],
      "metadata": {
        "colab": {
          "base_uri": "https://localhost:8080/"
        },
        "id": "qlCnrKhN7RgT",
        "outputId": "0dc4a757-6769-4ae4-9cc6-02e79ae627f2"
      },
      "execution_count": 49,
      "outputs": [
        {
          "output_type": "execute_result",
          "data": {
            "text/plain": [
              "array([ 0.,  8., 16., 24., 32., 40., 48., 56., 64.])"
            ]
          },
          "metadata": {},
          "execution_count": 49
        }
      ]
    },
    {
      "cell_type": "code",
      "source": [],
      "metadata": {
        "id": "n7omcFk17_aL"
      },
      "execution_count": null,
      "outputs": []
    },
    {
      "cell_type": "markdown",
      "source": [
        "#### Random Number **Arrays**"
      ],
      "metadata": {
        "id": "E4entilR8aAJ"
      }
    },
    {
      "cell_type": "markdown",
      "source": [
        "![Screenshot 2025-08-30 175759.png](data:image/png;base64,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)"
      ],
      "metadata": {
        "id": "wkOedLx_8ypV"
      }
    },
    {
      "cell_type": "code",
      "source": [
        "from numpy.random import default_rng\n",
        "\n",
        "rng = default_rng(123)              #3 here we are using default range method\n",
        "\n",
        "random_array = rng.random(10)\n",
        "random_array"
      ],
      "metadata": {
        "colab": {
          "base_uri": "https://localhost:8080/"
        },
        "id": "InIRPEWJ8eve",
        "outputId": "e293f285-fde9-45ed-8d59-c2bf510117ce"
      },
      "execution_count": 56,
      "outputs": [
        {
          "output_type": "execute_result",
          "data": {
            "text/plain": [
              "array([0.68235186, 0.05382102, 0.22035987, 0.18437181, 0.1759059 ,\n",
              "       0.81209451, 0.923345  , 0.2765744 , 0.81975456, 0.88989269])"
            ]
          },
          "metadata": {},
          "execution_count": 56
        }
      ]
    },
    {
      "cell_type": "code",
      "source": [
        "rng = default_rng(1234)\n",
        "mean , stddev = 5,1\n",
        "random_array = rng.normal(mean, stddev, size = 10)\n",
        "random_array"
      ],
      "metadata": {
        "colab": {
          "base_uri": "https://localhost:8080/"
        },
        "id": "JvhpgBRa9XlC",
        "outputId": "c20aae74-78c8-45a8-835b-aca796310f01"
      },
      "execution_count": 58,
      "outputs": [
        {
          "output_type": "execute_result",
          "data": {
            "text/plain": [
              "array([3.39616319, 5.06409991, 5.7408913 , 5.15261919, 5.86374389,\n",
              "       7.91309922, 3.52117664, 5.94547297, 3.33386454, 5.34374458])"
            ]
          },
          "metadata": {},
          "execution_count": 58
        }
      ]
    },
    {
      "cell_type": "code",
      "source": [
        "# same as above\n",
        "rng = np.random.default_rng(616)\n",
        "rng.random(5)"
      ],
      "metadata": {
        "colab": {
          "base_uri": "https://localhost:8080/"
        },
        "id": "2VzQeFAc-gjN",
        "outputId": "6d0d10d1-0965-4c8e-d594-488316366308"
      },
      "execution_count": 60,
      "outputs": [
        {
          "output_type": "execute_result",
          "data": {
            "text/plain": [
              "array([0.39682145, 0.86568572, 0.46040359, 0.30599848, 0.57381588])"
            ]
          },
          "metadata": {},
          "execution_count": 60
        }
      ]
    },
    {
      "cell_type": "code",
      "source": [
        "rng.integers(0,10,100)"
      ],
      "metadata": {
        "colab": {
          "base_uri": "https://localhost:8080/"
        },
        "id": "WBx-nRRy_TLj",
        "outputId": "218b6c8b-064b-4470-8c25-ebab7b53a759"
      },
      "execution_count": 62,
      "outputs": [
        {
          "output_type": "execute_result",
          "data": {
            "text/plain": [
              "array([6, 0, 1, 8, 0, 7, 3, 7, 9, 5, 8, 3, 6, 0, 3, 3, 1, 2, 2, 4, 9, 1,\n",
              "       2, 5, 1, 8, 9, 0, 3, 1, 5, 8, 0, 6, 1, 7, 0, 7, 6, 0, 3, 7, 1, 9,\n",
              "       4, 1, 6, 1, 4, 4, 9, 5, 3, 4, 7, 8, 3, 3, 5, 0, 4, 9, 9, 5, 6, 5,\n",
              "       8, 2, 3, 0, 0, 8, 3, 8, 4, 8, 8, 9, 7, 3, 8, 4, 9, 2, 6, 3, 0, 3,\n",
              "       2, 0, 0, 4, 9, 5, 4, 1, 8, 2, 7, 7])"
            ]
          },
          "metadata": {},
          "execution_count": 62
        }
      ]
    },
    {
      "cell_type": "code",
      "source": [
        "rng.normal(50,5,10)"
      ],
      "metadata": {
        "colab": {
          "base_uri": "https://localhost:8080/"
        },
        "id": "9MfrA3jd_jW0",
        "outputId": "9951d27a-1eed-4c01-e2d6-462f0283596d"
      },
      "execution_count": 63,
      "outputs": [
        {
          "output_type": "execute_result",
          "data": {
            "text/plain": [
              "array([58.79869416, 47.36546164, 50.41694017, 47.18838872, 50.68654664,\n",
              "       53.53115044, 46.35468178, 46.1580894 , 52.89177118, 45.90693639])"
            ]
          },
          "metadata": {},
          "execution_count": 63
        }
      ]
    },
    {
      "cell_type": "code",
      "source": [],
      "metadata": {
        "id": "4Q45vcfD_2rM"
      },
      "execution_count": null,
      "outputs": []
    }
  ]
}